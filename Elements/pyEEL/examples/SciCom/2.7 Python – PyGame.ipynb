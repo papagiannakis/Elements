{
 "cells": [
  {
   "attachments": {},
   "cell_type": "markdown",
   "metadata": {},
   "source": [
    "# Python: Using other python packages - pyGame example"
   ]
  },
  {
   "attachments": {},
   "cell_type": "markdown",
   "metadata": {},
   "source": [
    "### *Copyright 2021-today Dr. George Papagiannakis,  papagian@csd.uoc.gr*\n",
    "*All Rights Reserved*\n",
    "### *University of Crete & Foundation for Research & Technology - Hellas (FORTH)*\n",
    "\n",
    "This notebook is also based on parts of [Lectures on scientific computing with Python](http://github.com/jrjohansson/scientific-python-lectures) by [J.R. Johansson](http://jrjohansson.github.io). \n",
    "\n",
    "---"
   ]
  },
  {
   "attachments": {},
   "cell_type": "markdown",
   "metadata": {},
   "source": [
    "## What is the pyGame python package?"
   ]
  },
  {
   "attachments": {},
   "cell_type": "markdown",
   "metadata": {},
   "source": [
    "There are several good online resources to learn Pygame. Here are some popular tutorials and courses that can help you get started:\n",
    "\n",
    "- Pygame Official Documentation and Tutorials: The official Pygame documentation is a great place to start learning the basics. It provides a comprehensive overview of Pygame's features and functions. The website also features several tutorials and examples.\n",
    "Link: https://www.pygame.org/docs/\n",
    "- KidsCanCode - Game Development with Python and Pygame: KidsCanCode offers a comprehensive video tutorial series on YouTube that covers various aspects of Pygame, including creating a simple game, handling user inputs, and using Pygame's built-in features.\n",
    "Link: https://www.youtube.com/playlist?list=PLsk-HSGFjnaH5yghzu7PcOzm9N_hsW0Ue\n",
    "- Real Python - Pygame: A Primer on Game Programming in Python: Real Python provides a written tutorial that covers the basics of Pygame, including setting up the environment, creating game objects, and handling user input.\n",
    "Link: https://realpython.com/pygame-a-primer/\n",
    "- Sentdex - Python Game Development with Pygame: Sentdex offers a YouTube video tutorial series that covers various aspects of Pygame development, including creating game objects, handling collisions, and managing game states.\n",
    "Link: https://www.youtube.com/playlist?list=PLQVvvaa0QuDdLkP8MrOXLe_rKuf6r80KO\n",
    "- PythonProgramming.net - Pygame Tutorials: PythonProgramming.net features a series of written tutorials on Pygame, covering topics such as drawing shapes, handling events, and creating simple games.\n",
    "Link: https://pythonprogramming.net/pygame-python-3-part-1-intro/\n",
    "\n",
    "These resources should provide you with a solid foundation for learning Pygame and building your own games. Remember that practice is essential when learning any new programming skill, so make sure to create your own projects and experiment with the concepts you learn from these tutorials."
   ]
  },
  {
   "attachments": {},
   "cell_type": "markdown",
   "metadata": {},
   "source": [
    "To run the following example, one must install ```pygame``` in his kernel via ```pip install pygame``` or directly in this notebook, via the following code (uncomment and run):"
   ]
  },
  {
   "cell_type": "code",
   "execution_count": 2,
   "metadata": {},
   "outputs": [
    {
     "name": "stdout",
     "output_type": "stream",
     "text": [
      "Requirement already satisfied: pygame in /Users/manos/opt/anaconda3/envs/elements/lib/python3.8/site-packages (2.3.0)\n"
     ]
    }
   ],
   "source": [
    "# import sys\n",
    "# !{sys.executable} -m pip install pygame"
   ]
  },
  {
   "attachments": {},
   "cell_type": "markdown",
   "metadata": {},
   "source": [
    "## An example using the pyGame package"
   ]
  },
  {
   "cell_type": "code",
   "execution_count": null,
   "metadata": {},
   "outputs": [],
   "source": [
    "import pygame\n",
    "import random\n",
    "import os \n",
    "import sys\n",
    "from pygame.locals import *"
   ]
  },
  {
   "cell_type": "code",
   "execution_count": null,
   "metadata": {},
   "outputs": [],
   "source": [
    "pygame.init()\n",
    "FPS = 60\n",
    "fpsClock = pygame.time.Clock()\n",
    "WIDTH, HEIGHT = 800, 600\n",
    "win = pygame.display.set_mode((WIDTH, HEIGHT))\n",
    "pygame.display.set_caption(\"A simple pyEEL 2D Shoot-em-up Game\")\n",
    "\n",
    "score = 0\n",
    "# Create a font object for displaying the score\n",
    "font = pygame. font.Font (None, 36)\n",
    "\n",
    "def render_score():\n",
    "    score_text = f\"Score: {score}\"\n",
    "    text_surface = font.render(score_text, True, (255, 255, 255))\n",
    "    return text_surface\n"
   ]
  },
  {
   "cell_type": "code",
   "execution_count": null,
   "metadata": {},
   "outputs": [],
   "source": [
    "class Spaceship(pygame.sprite.Sprite):\n",
    "    def __init__(self, x, y):\n",
    "        super().__init__()\n",
    "        self.image = pygame.Surface((50, 30))\n",
    "        self.image.fill((0, 255, 0))\n",
    "        self.rect = self.image.get_rect()\n",
    "        self.rect.x = x\n",
    "        self.rect.y = y\n",
    "\n",
    "    def update(self):\n",
    "        keys = pygame.key.get_pressed()\n",
    "        if keys[K_LEFT]:\n",
    "            self.rect.x -= 5\n",
    "        if keys[K_RIGHT]:\n",
    "            self.rect.x += 5\n",
    "        if keys[K_UP]:\n",
    "            self.rect.y -= 5\n",
    "        if keys[K_DOWN]:\n",
    "            self.rect.y += 5\n",
    "\n",
    "\n",
    "class Enemy(pygame.sprite.Sprite):\n",
    "    def __init__(self):\n",
    "        super().__init__()\n",
    "        self.image = pygame.Surface((30, 20))\n",
    "        self.image.fill((255, 0, 0))\n",
    "        self.rect = self.image.get_rect()\n",
    "        self.rect.x = random.randint(0, WIDTH - self.rect.width)\n",
    "        self.rect.y = -self.rect.height\n",
    "\n",
    "    def update(self):\n",
    "        self.rect.y += 3\n",
    "        if self.rect.y > HEIGHT:\n",
    "            self.kill()\n",
    "\n",
    "\n",
    "class Bullet(pygame.sprite.Sprite):\n",
    "    def __init__(self, x, y):\n",
    "        super().__init__()\n",
    "        self.image = pygame.Surface((5, 15))\n",
    "        self.image.fill((255, 255, 0))\n",
    "        self.rect = self.image.get_rect()\n",
    "        self.rect.x = x\n",
    "        self.rect.y = y\n",
    "\n",
    "    def update(self):\n",
    "        self.rect.y -= 10\n",
    "        if self.rect.y < -self.rect.height:\n",
    "            self.kill()\n",
    "\n"
   ]
  },
  {
   "cell_type": "code",
   "execution_count": null,
   "metadata": {},
   "outputs": [],
   "source": [
    "spaceship = Spaceship(WIDTH // 2, HEIGHT - 60) #floor division operator //\n",
    "enemies = pygame.sprite.Group()\n",
    "bullets = pygame.sprite.Group()\n",
    "\n",
    "all_sprites = pygame.sprite.Group()\n",
    "all_sprites.add(spaceship)\n"
   ]
  },
  {
   "cell_type": "code",
   "execution_count": null,
   "metadata": {},
   "outputs": [],
   "source": [
    "running = True\n",
    "while running:\n",
    "    win.fill((0, 0, 0))\n",
    "\n",
    "    # Spawn enemies\n",
    "    if random.random() < 0.02:\n",
    "        enemy = Enemy()\n",
    "        all_sprites.add(enemy)\n",
    "        enemies.add(enemy)\n",
    "\n",
    "    # Check for collisions\n",
    "    collided = pygame.sprite.spritecollide(spaceship, enemies, True)\n",
    "    collisions = pygame.sprite.groupcollide(bullets, enemies, True, True)\n",
    "    \n",
    "    # play a sound if there was a collision\n",
    "    # this needs to be fixed according to the OS used\n",
    "    #for bullet, enemy_list in collisions.items():\n",
    "        #os.system(\"afplay /System/Library/Sounds/Tink.aiff\")\n",
    "\n",
    "    # Check for bullet-enemy collisions\n",
    "    for bullet, enemy_list in collisions.items():\n",
    "        score += len(enemy_list)\n",
    "    \n",
    "    if collisions:\n",
    "        #sound = pygame.mixer.Sound('explosion.wav')\n",
    "        pass\n",
    "    if collided:\n",
    "        running = False\n",
    "\n",
    "    # Event handling\n",
    "    for event in pygame.event.get():\n",
    "        if event.type == QUIT:\n",
    "            running = False\n",
    "        if event.type == KEYDOWN and event.key == K_SPACE:\n",
    "            bullet = Bullet(spaceship.rect.x + spaceship.rect.width // 2 - 2, spaceship.rect.y)\n",
    "            all_sprites.add(bullet)\n",
    "            bullets.add(bullet)\n",
    "        elif event.type == KEYDOWN and event.key == K_ESCAPE:\n",
    "            running = False \n",
    "            #close pygame window\n",
    "            pygame.display.quit()\n",
    "            # quit pygame\n",
    "            pygame.quit()\n",
    "            # quit python\n",
    "            quit()\n",
    "    \n",
    "    # Draw the score text\n",
    "    win.blit(render_score(), (10,10))\n",
    "\n",
    "    # Update and draw sprites\n",
    "    all_sprites.update()\n",
    "    all_sprites.draw(win)\n",
    "\n",
    "    pygame.display.flip()\n",
    "    fpsClock.tick(FPS)\n",
    "\n",
    "pygame.quit()\n",
    "# quit python\n",
    "quit()\n"
   ]
  },
  {
   "cell_type": "code",
   "execution_count": null,
   "metadata": {},
   "outputs": [],
   "source": [
    "%load_ext version_information\n",
    "\n",
    "%version_information"
   ]
  }
 ],
 "metadata": {
  "kernelspec": {
   "display_name": "elements",
   "language": "python",
   "name": "python3"
  },
  "language_info": {
   "codemirror_mode": {
    "name": "ipython",
    "version": 3
   },
   "file_extension": ".py",
   "mimetype": "text/x-python",
   "name": "python",
   "nbconvert_exporter": "python",
   "pygments_lexer": "ipython3",
   "version": "3.8.16"
  },
  "vscode": {
   "interpreter": {
    "hash": "abf0d22b029d6db216f9dc0ceda6b51b4bd3d5cb5b1ad533de1c1203f5559cfc"
   }
  }
 },
 "nbformat": 4,
 "nbformat_minor": 1
}
