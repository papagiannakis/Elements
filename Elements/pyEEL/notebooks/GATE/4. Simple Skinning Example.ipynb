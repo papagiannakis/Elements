{
 "cells": [
  {
   "cell_type": "markdown",
   "metadata": {},
   "source": [
    "# Sample Skinning Example without higherarchical bones\n",
    "\n",
    "In the following skinning example, we have made the assumption that all offset matrices are identity matrices. This is a simplification that allows us to focus on the skinning process itself. In practice, the offset matrices are used to transform the vertices from the bone space to the model space."
   ]
  },
  {
   "cell_type": "code",
   "execution_count": null,
   "metadata": {},
   "outputs": [],
   "source": [
    "\n",
    "from Elements.definitions import MODEL_DIR, PICKLES_DIR\n",
    "import Elements.pyECSS.math_utilities as util\n",
    "from os import path\n",
    "import time \n",
    "import pickle\n",
    "import numpy as np\n",
    "import meshplot as mp"
   ]
  },
  {
   "cell_type": "code",
   "execution_count": null,
   "metadata": {},
   "outputs": [],
   "source": [
    "\n",
    "def vec9_to_transformation_matrix(vec9):\n",
    "    # takes a vector of 9 parameters and returns a transformation matrix\n",
    "    return util.translate(vec9[0:3])@util.eulerAnglesToRotationMatrix(vec9[3:6]) @ util.scale(vec9[6:9])\n",
    "\n",
    "def vertex_apply_M(v,M):\n",
    "    # applies a transformation matrix to a vertex\n",
    "    # v is a 3x1 numpy array, e.g., [1,2,3]\n",
    "    # M is a 4x4 numpy array; a standard transformation matrix\n",
    "    # the output is a 3x1 numpy array e.g., [2,3,4]\n",
    "    return np.dot(M,np.append(v,[1.0]))[0:3]"
   ]
  },
  {
   "cell_type": "markdown",
   "metadata": {},
   "source": [
    "# Loading the model "
   ]
  },
  {
   "cell_type": "code",
   "execution_count": null,
   "metadata": {},
   "outputs": [],
   "source": [
    "\n",
    "vertices = np.array([ [0,0,0], #0\n",
    "                      [1,0,0], #1\n",
    "                      [0,1,0], #2\n",
    "                      [1,1,0], #3\n",
    "                      [0,2,0], #4\n",
    "                      [1,2,0], #5\n",
    "                      ])\n",
    "faces = np.array([ [0,1,2],[2,1,3], [2,3,4], [4,3,5] ])\n",
    "p = mp.plot(vertices, faces,vertices[:, 1],shading={\"scale\": 2.5,\"wireframe\":True},return_plot=True)  \n",
    "\n",
    "# we are not using hierarchical bones here\n",
    "# we simply have 3 bones \n",
    "# in the following list we write down the weights/influence for each vertex:\n",
    "# for example \n",
    "# vertex 0 is only influenced by bone 0\n",
    "# vertex 2 is influenced by bone 0 and 1 with equal weight 1/2\n",
    "# vertex 4 is influenced by bone 1 and 2 with equal weight 1/2\n",
    "weights = np.array([ [1,0,0], #0\n",
    "                     [1,0,0], #1\n",
    "                     [1/2,1/2,0], #2 \n",
    "                     [1/2,1/2,0], #3\n",
    "                     [0,1/2,1/2], #4\n",
    "                     [0,1/2,1/2], #5\n",
    "                     ])\n",
    "\n",
    "\n"
   ]
  },
  {
   "cell_type": "markdown",
   "metadata": {},
   "source": [
    "# Visualizing the T-pose of the model"
   ]
  },
  {
   "cell_type": "code",
   "execution_count": null,
   "metadata": {},
   "outputs": [],
   "source": [
    "\n",
    "\n",
    "# play around with these values\n",
    "# the first 3 are translation, the next 3 are rotation, the last 3 are scale\n",
    "jO = [0.0, 0, 0, 0, 0, 0, 1, 1, 1]\n",
    "j1 = [0.0, 0, 0, 1, 1, 0, 1, 1, 1]\n",
    "j2 = [0.0, 0, 0, 0, 0, 0, 1, 1, 1]\n",
    "\n",
    "# these are the transformation matrices for each bone\n",
    "BB = np.array([vec9_to_transformation_matrix(jO),\n",
    "               vec9_to_transformation_matrix(j1),\n",
    "               vec9_to_transformation_matrix(j2)\n",
    "               ])\n",
    "\n",
    "newv = np.zeros([len(vertices),3])\n",
    "print(newv)\n",
    "start = time.time()\n",
    "for i in range(len(vertices)):  \n",
    "    for j in range(3): # we only have 3 bones\n",
    "        newv[i] = newv[i] + weights[i,j]*vertex_apply_M(vertices[i],BB[j])\n",
    "end = time.time()\n",
    "\n",
    "p = mp.plot(newv, faces,newv[:, 1],shading={\"scale\": 2.5,\"wireframe\":True},return_plot=True)  \n",
    "p.add_mesh(vertices+[2,0,0], faces, vertices[:,1], shading={\"scale\": 2.5,\"wireframe\":True})"
   ]
  }
 ],
 "metadata": {
  "kernelspec": {
   "display_name": "elements",
   "language": "python",
   "name": "python3"
  },
  "language_info": {
   "codemirror_mode": {
    "name": "ipython",
    "version": 3
   },
   "file_extension": ".py",
   "mimetype": "text/x-python",
   "name": "python",
   "nbconvert_exporter": "python",
   "pygments_lexer": "ipython3",
   "version": "3.8.16"
  }
 },
 "nbformat": 4,
 "nbformat_minor": 2
}
