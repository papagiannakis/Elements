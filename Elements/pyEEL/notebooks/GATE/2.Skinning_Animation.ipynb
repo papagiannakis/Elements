{
 "cells": [
  {
   "cell_type": "markdown",
   "metadata": {},
   "source": [
    "# Applying the Skinning Animation using Euclidean representation forms\n",
    "\n",
    "In the following, we will apply the skinning animation using the Euclidean representation forms. The model data is loaded from a dae file\n",
    "using the pyassimp library. The skinning animation is applied using the linear blend skinning (LBS) method. The model data is alse stored in pickle files for later use."
   ]
  },
  {
   "cell_type": "code",
   "execution_count": null,
   "metadata": {},
   "outputs": [],
   "source": [
    "\n",
    "from Elements.definitions import MODEL_DIR, PICKLES_DIR\n",
    "from os import path\n",
    "from Elements.features.SkinnedMesh.gate_module import *\n",
    "from pyassimp import load\n",
    "import time \n",
    "import pickle"
   ]
  },
  {
   "cell_type": "markdown",
   "metadata": {},
   "source": [
    "# Loading the model "
   ]
  },
  {
   "cell_type": "code",
   "execution_count": null,
   "metadata": {},
   "outputs": [],
   "source": [
    "\n",
    "object_path = MODEL_DIR / \"astroBoy_walk.dae\"\n",
    "mesh_id = 3 # our model contains many meshes, we choose to visualize the 4th one\n",
    "\n",
    "object_path_str = str(object_path) # convert possix.path to string so that pyassimp's load can read it\n",
    "object = load(object_path_str)\n",
    "\n",
    "mesh = object.meshes[mesh_id]\n",
    "v = mesh.vertices\n",
    "f = mesh.faces\n",
    "b = mesh.bones\n",
    "vw = vertex_weight(len(v))\n",
    "vw.populate(b)\n",
    "\n",
    "BB = [b[i].offsetmatrix for i in range(len(b))]\n"
   ]
  },
  {
   "cell_type": "markdown",
   "metadata": {},
   "source": [
    "# Visualizing the T-pose of the model"
   ]
  },
  {
   "cell_type": "code",
   "execution_count": null,
   "metadata": {},
   "outputs": [],
   "source": [
    "p = mp.plot(v, f, v[:, 1],shading={\"scale\": 2.5,\"wireframe\":True},return_plot=True)  "
   ]
  },
  {
   "cell_type": "markdown",
   "metadata": {},
   "source": [
    "## Visualizing the rest pose of the model"
   ]
  },
  {
   "cell_type": "code",
   "execution_count": null,
   "metadata": {
    "tags": []
   },
   "outputs": [],
   "source": [
    "# =================================================\n",
    "# APPLYING EXTRA TRANSFORMATIONS IN JOINTS\n",
    "# =================================================\n",
    "\n",
    "transform = False  # True for applying extra transformations in joints\n",
    "M = initialize_M(b) # initialize M with identity matrices\n",
    "MM0 = read_tree(object,mesh_id,M,transform)\n",
    "\n",
    "newv = np.zeros([(len(v)),3])\n",
    "start = time.time()\n",
    "for i in range(len(v)):\n",
    "    for j in range(4):\n",
    "        if vw.id[i][j] >=0:\n",
    "            mat = MM0[vw.id[i][j]] @ BB[vw.id[i][j]]            \n",
    "            newv[i] = newv[i] + vw.weight[i][j]*(vertex_apply_M(v[i],mat))\n",
    "end = time.time()\n",
    "\n",
    "# =================================================\n",
    "# USING MESH PLOT OUTSIDE JUPYTER\n",
    "# mp.offline()\n",
    "\n",
    "print(\"TIME : \", end-start)\n",
    "print(\"TRANSFORMATION = \", transform)\n",
    "p = mp.plot(newv, f,newv[:, 1],shading={\"scale\": 2.5,\"wireframe\":True},return_plot=True)  \n",
    "# p.save(\"skinning.html\")\n",
    "\n"
   ]
  },
  {
   "cell_type": "markdown",
   "metadata": {},
   "source": [
    "## Saving the data that corresponds to the model and the pose, we may replicate the final result without loading the code again"
   ]
  },
  {
   "cell_type": "code",
   "execution_count": null,
   "metadata": {},
   "outputs": [],
   "source": [
    "wanna_save = True\n",
    "\n",
    "\n",
    "path_to_save = PICKLES_DIR/\"astroboy_walk\"\n",
    "\n",
    "if wanna_save:\n",
    "    with open(path_to_save/'vertices.pkl', 'wb') as file: pickle.dump(v, file)\n",
    "    with open(path_to_save/'faces.pkl', 'wb') as file: pickle.dump(f, file)\n",
    "    with open(path_to_save/'vw_id.pkl', 'wb') as file: pickle.dump(vw.id, file)\n",
    "    with open(path_to_save/'vw_weight.pkl', 'wb') as file: pickle.dump(vw.weight, file)\n",
    "    with open(path_to_save/'MM0.pkl', 'wb') as file: pickle.dump(MM0, file)\n",
    "    with open(path_to_save/'BB.pkl', 'wb') as file: pickle.dump(BB, file)\n",
    "    with open(path_to_save/'newv.pkl', 'wb') as file: pickle.dump(newv, file)\n",
    "\n",
    "# should we use wb or w in the code above?"
   ]
  },
  {
   "cell_type": "markdown",
   "metadata": {},
   "source": [
    "# Generating a different pose by changing the joint transformations"
   ]
  },
  {
   "cell_type": "code",
   "execution_count": null,
   "metadata": {},
   "outputs": [],
   "source": [
    "# =================================================\n",
    "# APPLYING EXTRA TRANSFORMATIONS IN JOINTS\n",
    "# =================================================\n",
    "\n",
    "transform = True  \n",
    "M = initialize_M(b)\n",
    "\n",
    "M[1][0:3,0:3] = eulerAnglesToRotationMatrix([0.3,0.3,0.4])\n",
    "# M[1][0:3,3] = [5,5,5]\n",
    "# M[1] = np.dot(np.diag([2,2,2,1]),M[1])\n",
    "MM1 = read_tree(object,mesh_id,M,transform)\n",
    "\n",
    "path_to_save = PICKLES_DIR/\"astroboy_walk\"\n",
    "with open(path_to_save/'MM1.pkl', 'wb') as file: pickle.dump(MM1, file)\n",
    "\n",
    "\n",
    "# =================================================\n",
    "# Applying the skinning\n",
    "# =================================================\n",
    "\n",
    "newv = np.zeros([(len(v)),3])\n",
    "start = time.time()\n",
    "for i in range(len(v)):\n",
    "    for j in range(4):\n",
    "        if vw.id[i][j] >=0:\n",
    "            mat = MM1[vw.id[i][j]] @ BB[vw.id[i][j]]            \n",
    "            newv[i] = newv[i] + vw.weight[i][j]*(vertex_apply_M(v[i],mat))\n",
    "end = time.time()\n",
    "\n",
    "print(\"TIME : \", end-start)\n",
    "print(\"TRANSFORMATION = \", transform)\n",
    "p = mp.plot(newv, f,newv[:, 1],shading={\"scale\": 2.5,\"wireframe\":True},return_plot=True)  \n",
    "# p.save(\"skinning.html\")\n",
    "\n"
   ]
  },
  {
   "cell_type": "markdown",
   "metadata": {},
   "source": [
    "# LOADING MODEL FROM PICKLE FILES\n",
    "\n",
    "In case pyassimp loading fails, we can load the model from pickle files, as shown below."
   ]
  },
  {
   "cell_type": "code",
   "execution_count": null,
   "metadata": {},
   "outputs": [],
   "source": [
    "\n",
    "wanna_load = True\n",
    "\n",
    "path_to_load = PICKLES_DIR/\"astroboy_walk\"\n",
    "\n",
    "if wanna_load:\n",
    "    with open(path_to_load/'vertices.pkl', 'rb') as file: v=pickle.load(file)\n",
    "    with open(path_to_load/'faces.pkl', 'rb') as file: f=pickle.load(file)\n",
    "    vw = vertex_weight(len(v))\n",
    "    with open(path_to_load/'vw_id.pkl', 'rb') as file: vw.id = pickle.load(file)\n",
    "    with open(path_to_load/'vw_weight.pkl', 'rb') as file: vw.weight = pickle.load(file)\n",
    "    with open(path_to_load/'MM0.pkl', 'rb') as file: MM0 = pickle.load(file)\n",
    "    with open(path_to_load/'MM1.pkl', 'rb') as file: MM1 = pickle.load(file)\n",
    "    with open(path_to_load/'BB.pkl', 'rb') as file: BB = pickle.load(file)\n",
    "    \n",
    "\n",
    "MM = MM0 \n",
    "# MM = MM1\n",
    "\n",
    "# =================================================\n",
    "# Applying the skinning\n",
    "# =================================================\n",
    "newv = np.zeros([(len(v)),3])\n",
    "start = time.time()\n",
    "for i in range(len(v)):\n",
    "    for j in range(4):\n",
    "        if vw.id[i][j] >=0:\n",
    "            mat = MM1[vw.id[i][j]] @ BB[vw.id[i][j]]            \n",
    "            newv[i] = newv[i] + vw.weight[i][j]*(vertex_apply_M(v[i],mat))\n",
    "end = time.time()\n",
    "\n",
    "# =================================================\n",
    "# PLOTTING\n",
    "# =================================================\n",
    "\n",
    "print(\"TIME : \", end-start)\n",
    "print(\"TRANSFORMATION = \", transform)\n",
    "p = mp.plot(newv, f,newv[:, 1],shading={\"scale\": 2.5,\"wireframe\":True},return_plot=True)  \n",
    "# p.save(\"skinning.html\")\n",
    "\n"
   ]
  },
  {
   "cell_type": "markdown",
   "metadata": {},
   "source": [
    "# Simply printing the model "
   ]
  },
  {
   "cell_type": "code",
   "execution_count": null,
   "metadata": {},
   "outputs": [],
   "source": [
    "path_to_load = PICKLES_DIR/\"astroboy_walk\"\n",
    "with open(path_to_load/'faces.pkl', 'rb') as file: f=pickle.load(file)\n",
    "with open(path_to_load/'newv.pkl', 'rb') as file: newv = pickle.load(file)\n",
    "\n",
    "p = mp.plot(newv, f,newv[:, 1],shading={\"scale\": 2.5,\"wireframe\":True},return_plot=True)  "
   ]
  },
  {
   "cell_type": "markdown",
   "metadata": {},
   "source": [
    "# Generate more MM matrices\n",
    "\n",
    "Note that the pose of the model is not changed, only the rest pose is changed. Therefore multiple poses can be generated from the same rest pose, using the following code."
   ]
  },
  {
   "cell_type": "code",
   "execution_count": null,
   "metadata": {},
   "outputs": [],
   "source": [
    "M = initialize_M(b)\n",
    "\n",
    "M[1][0:3,0:3] = eulerAnglesToRotationMatrix([0.3,0.3,-0.4])\n",
    "M[2][0:3,0:3] = eulerAnglesToRotationMatrix([0.3,-0.3,0.4])\n",
    "# M[3][0:3,0:3] = eulerAnglesToRotationMatrix([0.3,0.3,0.4])\n",
    "M[1][0:3,3] = [0,1,0]\n",
    "M[1] = np.dot(np.diag([2,2,2,1]),M[1])\n",
    "\n",
    "MM2 = read_tree(object,mesh_id,M,transform)\n",
    "path_to_save = PICKLES_DIR/\"astroboy_walk\"\n",
    "with open(path_to_save/'MM2.pkl', 'wb') as file: pickle.dump(MM2, file)"
   ]
  },
  {
   "cell_type": "code",
   "execution_count": null,
   "metadata": {},
   "outputs": [],
   "source": [
    "MM = MM2\n",
    "newv = np.zeros([(len(v)),3])\n",
    "start = time.time()\n",
    "for i in range(len(v)):\n",
    "    for j in range(4):\n",
    "        if vw.id[i][j] >=0:\n",
    "            mat = MM[vw.id[i][j]] @ BB[vw.id[i][j]]            \n",
    "            newv[i] = newv[i] + vw.weight[i][j]*(vertex_apply_M(v[i],mat))\n",
    "end = time.time()\n",
    "\n",
    "# =================================================\n",
    "# PLOTTING\n",
    "# =================================================\n",
    "\n",
    "print(\"TIME : \", end-start)\n",
    "print(\"TRANSFORMATION = \", transform)\n",
    "p = mp.plot(newv, f,newv[:, 1],shading={\"scale\": 2.5,\"wireframe\":True},return_plot=True)  "
   ]
  }
 ],
 "metadata": {
  "kernelspec": {
   "display_name": "elements",
   "language": "python",
   "name": "python3"
  },
  "language_info": {
   "codemirror_mode": {
    "name": "ipython",
    "version": 3
   },
   "file_extension": ".py",
   "mimetype": "text/x-python",
   "name": "python",
   "nbconvert_exporter": "python",
   "pygments_lexer": "ipython3",
   "version": "3.8.16"
  }
 },
 "nbformat": 4,
 "nbformat_minor": 2
}
